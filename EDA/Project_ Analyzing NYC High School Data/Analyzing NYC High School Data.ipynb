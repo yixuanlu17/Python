{
 "cells": [
  {
   "cell_type": "markdown",
   "metadata": {},
   "source": [
    "# Read in the data"
   ]
  },
  {
   "cell_type": "code",
   "execution_count": null,
   "metadata": {},
   "outputs": [],
   "source": []
  },
  {
   "cell_type": "code",
   "execution_count": 87,
   "metadata": {},
   "outputs": [],
   "source": [
    "import pandas as pd\n",
    "import numpy\n",
    "import re\n",
    "\n",
    "data_files = [\n",
    "    \"ap_2010.csv\",\n",
    "    \"class_size.csv\",\n",
    "    \"demographics.csv\",\n",
    "    \"graduation.csv\",\n",
    "    \"hs_directory.csv\",\n",
    "    \"sat_results.csv\"\n",
    "]\n",
    "\n",
    "data = {}\n",
    "\n",
    "for f in data_files:\n",
    "    d = pd.read_csv(\"schools/{0}\".format(f))\n",
    "    data[f.replace(\".csv\", \"\")] = d"
   ]
  },
  {
   "cell_type": "markdown",
   "metadata": {},
   "source": [
    "# Read in the surveys"
   ]
  },
  {
   "cell_type": "code",
   "execution_count": 88,
   "metadata": {},
   "outputs": [],
   "source": [
    "all_survey = pd.read_csv(\"schools/survey_all.txt\", delimiter=\"\\t\", encoding='windows-1252')\n",
    "d75_survey = pd.read_csv(\"schools/survey_d75.txt\", delimiter=\"\\t\", encoding='windows-1252')\n",
    "survey = pd.concat([all_survey, d75_survey], axis=0)\n",
    "\n",
    "survey[\"DBN\"] = survey[\"dbn\"]\n",
    "\n",
    "survey_fields = [\n",
    "    \"DBN\", \n",
    "    \"rr_s\", \n",
    "    \"rr_t\", \n",
    "    \"rr_p\", \n",
    "    \"N_s\", \n",
    "    \"N_t\", \n",
    "    \"N_p\", \n",
    "    \"saf_p_11\", \n",
    "    \"com_p_11\", \n",
    "    \"eng_p_11\", \n",
    "    \"aca_p_11\", \n",
    "    \"saf_t_11\", \n",
    "    \"com_t_11\", \n",
    "    \"eng_t_11\", \n",
    "    \"aca_t_11\", \n",
    "    \"saf_s_11\", \n",
    "    \"com_s_11\", \n",
    "    \"eng_s_11\", \n",
    "    \"aca_s_11\", \n",
    "    \"saf_tot_11\", \n",
    "    \"com_tot_11\", \n",
    "    \"eng_tot_11\", \n",
    "    \"aca_tot_11\",\n",
    "]\n",
    "survey = survey.loc[:,survey_fields]\n",
    "data[\"survey\"] = survey"
   ]
  },
  {
   "cell_type": "markdown",
   "metadata": {},
   "source": [
    "# Add DBN columns"
   ]
  },
  {
   "cell_type": "code",
   "execution_count": 89,
   "metadata": {},
   "outputs": [],
   "source": [
    "data[\"hs_directory\"][\"DBN\"] = data[\"hs_directory\"][\"dbn\"]\n",
    "\n",
    "def pad_csd(num):\n",
    "    string_representation = str(num)\n",
    "    if len(string_representation) > 1:\n",
    "        return string_representation\n",
    "    else:\n",
    "        return \"0\" + string_representation\n",
    "    \n",
    "data[\"class_size\"][\"padded_csd\"] = data[\"class_size\"][\"CSD\"].apply(pad_csd)\n",
    "data[\"class_size\"][\"DBN\"] = data[\"class_size\"][\"padded_csd\"] + data[\"class_size\"][\"SCHOOL CODE\"]"
   ]
  },
  {
   "cell_type": "markdown",
   "metadata": {},
   "source": [
    "# Convert columns to numeric"
   ]
  },
  {
   "cell_type": "code",
   "execution_count": 90,
   "metadata": {},
   "outputs": [],
   "source": [
    "cols = ['SAT Math Avg. Score', 'SAT Critical Reading Avg. Score', 'SAT Writing Avg. Score']\n",
    "for c in cols:\n",
    "    data[\"sat_results\"][c] = pd.to_numeric(data[\"sat_results\"][c], errors=\"coerce\")\n",
    "\n",
    "data['sat_results']['sat_score'] = data['sat_results'][cols[0]] + data['sat_results'][cols[1]] + data['sat_results'][cols[2]]\n",
    "\n",
    "def find_lat(loc):\n",
    "    coords = re.findall(\"\\(.+, .+\\)\", loc)\n",
    "    lat = coords[0].split(\",\")[0].replace(\"(\", \"\")\n",
    "    return lat\n",
    "\n",
    "def find_lon(loc):\n",
    "    coords = re.findall(\"\\(.+, .+\\)\", loc)\n",
    "    lon = coords[0].split(\",\")[1].replace(\")\", \"\").strip()\n",
    "    return lon\n",
    "\n",
    "data[\"hs_directory\"][\"lat\"] = data[\"hs_directory\"][\"Location 1\"].apply(find_lat)\n",
    "data[\"hs_directory\"][\"lon\"] = data[\"hs_directory\"][\"Location 1\"].apply(find_lon)\n",
    "\n",
    "data[\"hs_directory\"][\"lat\"] = pd.to_numeric(data[\"hs_directory\"][\"lat\"], errors=\"coerce\")\n",
    "data[\"hs_directory\"][\"lon\"] = pd.to_numeric(data[\"hs_directory\"][\"lon\"], errors=\"coerce\")"
   ]
  },
  {
   "cell_type": "markdown",
   "metadata": {},
   "source": [
    "# Condense datasets"
   ]
  },
  {
   "cell_type": "code",
   "execution_count": 91,
   "metadata": {},
   "outputs": [],
   "source": [
    "class_size = data[\"class_size\"]\n",
    "class_size = class_size[class_size[\"GRADE \"] == \"09-12\"]\n",
    "class_size = class_size[class_size[\"PROGRAM TYPE\"] == \"GEN ED\"]\n",
    "\n",
    "class_size = class_size.groupby(\"DBN\").agg(numpy.mean)\n",
    "class_size.reset_index(inplace=True)\n",
    "data[\"class_size\"] = class_size\n",
    "\n",
    "data[\"demographics\"] = data[\"demographics\"][data[\"demographics\"][\"schoolyear\"] == 20112012]\n",
    "\n",
    "data[\"graduation\"] = data[\"graduation\"][data[\"graduation\"][\"Cohort\"] == \"2006\"]\n",
    "data[\"graduation\"] = data[\"graduation\"][data[\"graduation\"][\"Demographic\"] == \"Total Cohort\"]"
   ]
  },
  {
   "cell_type": "markdown",
   "metadata": {},
   "source": [
    "# Convert AP scores to numeric"
   ]
  },
  {
   "cell_type": "code",
   "execution_count": 92,
   "metadata": {},
   "outputs": [],
   "source": [
    "cols = ['AP Test Takers ', 'Total Exams Taken', 'Number of Exams with scores 3 4 or 5']\n",
    "\n",
    "for col in cols:\n",
    "    data[\"ap_2010\"][col] = pd.to_numeric(data[\"ap_2010\"][col], errors=\"coerce\")"
   ]
  },
  {
   "cell_type": "markdown",
   "metadata": {},
   "source": [
    "# Combine the datasets"
   ]
  },
  {
   "cell_type": "code",
   "execution_count": 93,
   "metadata": {},
   "outputs": [],
   "source": [
    "combined = data[\"sat_results\"]\n",
    "\n",
    "combined = combined.merge(data[\"ap_2010\"], on=\"DBN\", how=\"left\")\n",
    "combined = combined.merge(data[\"graduation\"], on=\"DBN\", how=\"left\")\n",
    "\n",
    "to_merge = [\"class_size\", \"demographics\", \"survey\", \"hs_directory\"]\n",
    "\n",
    "for m in to_merge:\n",
    "    combined = combined.merge(data[m], on=\"DBN\", how=\"inner\")\n",
    "\n",
    "combined = combined.fillna(combined.mean())\n",
    "combined = combined.fillna(0)"
   ]
  },
  {
   "cell_type": "markdown",
   "metadata": {},
   "source": [
    "# Add a school district column for mapping"
   ]
  },
  {
   "cell_type": "code",
   "execution_count": 94,
   "metadata": {},
   "outputs": [],
   "source": [
    "def get_first_two_chars(dbn):\n",
    "    return dbn[0:2]\n",
    "\n",
    "combined[\"school_dist\"] = combined[\"DBN\"].apply(get_first_two_chars)"
   ]
  },
  {
   "cell_type": "markdown",
   "metadata": {},
   "source": [
    "# Find correlations"
   ]
  },
  {
   "cell_type": "code",
   "execution_count": 95,
   "metadata": {},
   "outputs": [
    {
     "name": "stdout",
     "output_type": "stream",
     "text": [
      "SAT Critical Reading Avg. Score    0.986820\n",
      "SAT Math Avg. Score                0.972643\n",
      "SAT Writing Avg. Score             0.987771\n",
      "sat_score                          1.000000\n",
      "AP Test Takers                     0.523140\n",
      "                                     ...   \n",
      "priority08                              NaN\n",
      "priority09                              NaN\n",
      "priority10                              NaN\n",
      "lat                               -0.121029\n",
      "lon                               -0.132222\n",
      "Name: sat_score, Length: 67, dtype: float64\n"
     ]
    }
   ],
   "source": [
    "correlations = combined.corr()\n",
    "correlations = correlations[\"sat_score\"]\n",
    "print(correlations)"
   ]
  },
  {
   "cell_type": "markdown",
   "metadata": {},
   "source": [
    "# Plotting survey correlations"
   ]
  },
  {
   "cell_type": "code",
   "execution_count": 96,
   "metadata": {},
   "outputs": [],
   "source": [
    "# Remove DBN since it's a unique identifier, not a useful numerical value for correlation.\n",
    "survey_fields.remove(\"DBN\")"
   ]
  },
  {
   "cell_type": "code",
   "execution_count": 97,
   "metadata": {},
   "outputs": [
    {
     "data": {
      "text/html": [
       "<div>\n",
       "<style scoped>\n",
       "    .dataframe tbody tr th:only-of-type {\n",
       "        vertical-align: middle;\n",
       "    }\n",
       "\n",
       "    .dataframe tbody tr th {\n",
       "        vertical-align: top;\n",
       "    }\n",
       "\n",
       "    .dataframe thead th {\n",
       "        text-align: right;\n",
       "    }\n",
       "</style>\n",
       "<table border=\"1\" class=\"dataframe\">\n",
       "  <thead>\n",
       "    <tr style=\"text-align: right;\">\n",
       "      <th></th>\n",
       "      <th>SAT Critical Reading Avg. Score</th>\n",
       "      <th>SAT Math Avg. Score</th>\n",
       "      <th>SAT Writing Avg. Score</th>\n",
       "      <th>sat_score</th>\n",
       "      <th>AP Test Takers</th>\n",
       "      <th>Total Exams Taken</th>\n",
       "      <th>Number of Exams with scores 3 4 or 5</th>\n",
       "      <th>Total Cohort</th>\n",
       "      <th>CSD</th>\n",
       "      <th>NUMBER OF STUDENTS / SEATS FILLED</th>\n",
       "      <th>...</th>\n",
       "      <th>grade_span_max</th>\n",
       "      <th>expgrade_span_max</th>\n",
       "      <th>zip</th>\n",
       "      <th>total_students</th>\n",
       "      <th>number_programs</th>\n",
       "      <th>priority08</th>\n",
       "      <th>priority09</th>\n",
       "      <th>priority10</th>\n",
       "      <th>lat</th>\n",
       "      <th>lon</th>\n",
       "    </tr>\n",
       "  </thead>\n",
       "  <tbody>\n",
       "    <tr>\n",
       "      <th>rr_s</th>\n",
       "      <td>0.230535</td>\n",
       "      <td>0.206058</td>\n",
       "      <td>0.249670</td>\n",
       "      <td>0.232199</td>\n",
       "      <td>0.059902</td>\n",
       "      <td>0.069768</td>\n",
       "      <td>0.067692</td>\n",
       "      <td>-0.125546</td>\n",
       "      <td>-0.025617</td>\n",
       "      <td>-0.081001</td>\n",
       "      <td>...</td>\n",
       "      <td>NaN</td>\n",
       "      <td>NaN</td>\n",
       "      <td>-0.103092</td>\n",
       "      <td>-0.082720</td>\n",
       "      <td>-0.171406</td>\n",
       "      <td>NaN</td>\n",
       "      <td>NaN</td>\n",
       "      <td>NaN</td>\n",
       "      <td>0.050591</td>\n",
       "      <td>-0.098253</td>\n",
       "    </tr>\n",
       "    <tr>\n",
       "      <th>rr_t</th>\n",
       "      <td>-0.031378</td>\n",
       "      <td>-0.010484</td>\n",
       "      <td>-0.028465</td>\n",
       "      <td>-0.023386</td>\n",
       "      <td>-0.008269</td>\n",
       "      <td>-0.016841</td>\n",
       "      <td>-0.018458</td>\n",
       "      <td>-0.026385</td>\n",
       "      <td>0.019645</td>\n",
       "      <td>-0.041974</td>\n",
       "      <td>...</td>\n",
       "      <td>NaN</td>\n",
       "      <td>NaN</td>\n",
       "      <td>-0.024091</td>\n",
       "      <td>-0.046634</td>\n",
       "      <td>-0.050622</td>\n",
       "      <td>NaN</td>\n",
       "      <td>NaN</td>\n",
       "      <td>NaN</td>\n",
       "      <td>-0.092756</td>\n",
       "      <td>-0.055198</td>\n",
       "    </tr>\n",
       "    <tr>\n",
       "      <th>rr_p</th>\n",
       "      <td>0.034665</td>\n",
       "      <td>0.051688</td>\n",
       "      <td>0.054048</td>\n",
       "      <td>0.047925</td>\n",
       "      <td>-0.013702</td>\n",
       "      <td>0.000027</td>\n",
       "      <td>0.035329</td>\n",
       "      <td>-0.188603</td>\n",
       "      <td>-0.031448</td>\n",
       "      <td>-0.191458</td>\n",
       "      <td>...</td>\n",
       "      <td>NaN</td>\n",
       "      <td>NaN</td>\n",
       "      <td>-0.099928</td>\n",
       "      <td>-0.169844</td>\n",
       "      <td>-0.227069</td>\n",
       "      <td>NaN</td>\n",
       "      <td>NaN</td>\n",
       "      <td>NaN</td>\n",
       "      <td>0.122586</td>\n",
       "      <td>0.017444</td>\n",
       "    </tr>\n",
       "    <tr>\n",
       "      <th>N_s</th>\n",
       "      <td>0.384723</td>\n",
       "      <td>0.471527</td>\n",
       "      <td>0.385180</td>\n",
       "      <td>0.423463</td>\n",
       "      <td>0.692322</td>\n",
       "      <td>0.661808</td>\n",
       "      <td>0.502398</td>\n",
       "      <td>0.892195</td>\n",
       "      <td>0.244212</td>\n",
       "      <td>0.935351</td>\n",
       "      <td>...</td>\n",
       "      <td>NaN</td>\n",
       "      <td>NaN</td>\n",
       "      <td>0.129550</td>\n",
       "      <td>0.942661</td>\n",
       "      <td>0.586136</td>\n",
       "      <td>NaN</td>\n",
       "      <td>NaN</td>\n",
       "      <td>NaN</td>\n",
       "      <td>-0.171325</td>\n",
       "      <td>-0.066135</td>\n",
       "    </tr>\n",
       "    <tr>\n",
       "      <th>N_t</th>\n",
       "      <td>0.254049</td>\n",
       "      <td>0.350594</td>\n",
       "      <td>0.247033</td>\n",
       "      <td>0.291463</td>\n",
       "      <td>0.560139</td>\n",
       "      <td>0.515464</td>\n",
       "      <td>0.338181</td>\n",
       "      <td>0.909168</td>\n",
       "      <td>0.269299</td>\n",
       "      <td>0.906038</td>\n",
       "      <td>...</td>\n",
       "      <td>NaN</td>\n",
       "      <td>NaN</td>\n",
       "      <td>0.158897</td>\n",
       "      <td>0.923733</td>\n",
       "      <td>0.667619</td>\n",
       "      <td>NaN</td>\n",
       "      <td>NaN</td>\n",
       "      <td>NaN</td>\n",
       "      <td>-0.184858</td>\n",
       "      <td>-0.046901</td>\n",
       "    </tr>\n",
       "    <tr>\n",
       "      <th>N_p</th>\n",
       "      <td>0.383032</td>\n",
       "      <td>0.464210</td>\n",
       "      <td>0.389013</td>\n",
       "      <td>0.421530</td>\n",
       "      <td>0.680333</td>\n",
       "      <td>0.657976</td>\n",
       "      <td>0.533714</td>\n",
       "      <td>0.728939</td>\n",
       "      <td>0.205329</td>\n",
       "      <td>0.785678</td>\n",
       "      <td>...</td>\n",
       "      <td>NaN</td>\n",
       "      <td>NaN</td>\n",
       "      <td>0.104068</td>\n",
       "      <td>0.817987</td>\n",
       "      <td>0.432957</td>\n",
       "      <td>NaN</td>\n",
       "      <td>NaN</td>\n",
       "      <td>NaN</td>\n",
       "      <td>-0.149107</td>\n",
       "      <td>-0.065858</td>\n",
       "    </tr>\n",
       "    <tr>\n",
       "      <th>saf_p_11</th>\n",
       "      <td>0.106216</td>\n",
       "      <td>0.118931</td>\n",
       "      <td>0.136731</td>\n",
       "      <td>0.122913</td>\n",
       "      <td>-0.079412</td>\n",
       "      <td>-0.064320</td>\n",
       "      <td>-0.010488</td>\n",
       "      <td>-0.363143</td>\n",
       "      <td>-0.196415</td>\n",
       "      <td>-0.342306</td>\n",
       "      <td>...</td>\n",
       "      <td>NaN</td>\n",
       "      <td>NaN</td>\n",
       "      <td>-0.188698</td>\n",
       "      <td>-0.290301</td>\n",
       "      <td>-0.358813</td>\n",
       "      <td>NaN</td>\n",
       "      <td>NaN</td>\n",
       "      <td>NaN</td>\n",
       "      <td>0.240957</td>\n",
       "      <td>-0.059055</td>\n",
       "    </tr>\n",
       "    <tr>\n",
       "      <th>com_p_11</th>\n",
       "      <td>-0.123188</td>\n",
       "      <td>-0.121054</td>\n",
       "      <td>-0.094316</td>\n",
       "      <td>-0.115073</td>\n",
       "      <td>-0.162610</td>\n",
       "      <td>-0.145548</td>\n",
       "      <td>-0.070715</td>\n",
       "      <td>-0.368474</td>\n",
       "      <td>-0.107558</td>\n",
       "      <td>-0.384702</td>\n",
       "      <td>...</td>\n",
       "      <td>NaN</td>\n",
       "      <td>NaN</td>\n",
       "      <td>-0.077146</td>\n",
       "      <td>-0.360806</td>\n",
       "      <td>-0.348528</td>\n",
       "      <td>NaN</td>\n",
       "      <td>NaN</td>\n",
       "      <td>NaN</td>\n",
       "      <td>0.207534</td>\n",
       "      <td>0.018565</td>\n",
       "    </tr>\n",
       "    <tr>\n",
       "      <th>eng_p_11</th>\n",
       "      <td>0.016373</td>\n",
       "      <td>0.005330</td>\n",
       "      <td>0.039251</td>\n",
       "      <td>0.020254</td>\n",
       "      <td>-0.043140</td>\n",
       "      <td>-0.034138</td>\n",
       "      <td>0.011983</td>\n",
       "      <td>-0.231506</td>\n",
       "      <td>-0.049386</td>\n",
       "      <td>-0.232505</td>\n",
       "      <td>...</td>\n",
       "      <td>NaN</td>\n",
       "      <td>NaN</td>\n",
       "      <td>-0.037859</td>\n",
       "      <td>-0.194448</td>\n",
       "      <td>-0.236977</td>\n",
       "      <td>NaN</td>\n",
       "      <td>NaN</td>\n",
       "      <td>NaN</td>\n",
       "      <td>0.147215</td>\n",
       "      <td>-0.012808</td>\n",
       "    </tr>\n",
       "    <tr>\n",
       "      <th>aca_p_11</th>\n",
       "      <td>0.024355</td>\n",
       "      <td>0.024334</td>\n",
       "      <td>0.055559</td>\n",
       "      <td>0.035155</td>\n",
       "      <td>-0.091459</td>\n",
       "      <td>-0.081141</td>\n",
       "      <td>-0.026855</td>\n",
       "      <td>-0.311564</td>\n",
       "      <td>-0.093648</td>\n",
       "      <td>-0.309984</td>\n",
       "      <td>...</td>\n",
       "      <td>NaN</td>\n",
       "      <td>NaN</td>\n",
       "      <td>-0.076421</td>\n",
       "      <td>-0.267526</td>\n",
       "      <td>-0.315592</td>\n",
       "      <td>NaN</td>\n",
       "      <td>NaN</td>\n",
       "      <td>NaN</td>\n",
       "      <td>0.162478</td>\n",
       "      <td>-0.012851</td>\n",
       "    </tr>\n",
       "    <tr>\n",
       "      <th>saf_t_11</th>\n",
       "      <td>0.282885</td>\n",
       "      <td>0.329018</td>\n",
       "      <td>0.309941</td>\n",
       "      <td>0.313810</td>\n",
       "      <td>0.140953</td>\n",
       "      <td>0.130993</td>\n",
       "      <td>0.078264</td>\n",
       "      <td>0.064428</td>\n",
       "      <td>0.019821</td>\n",
       "      <td>0.085233</td>\n",
       "      <td>...</td>\n",
       "      <td>NaN</td>\n",
       "      <td>NaN</td>\n",
       "      <td>-0.046640</td>\n",
       "      <td>0.124319</td>\n",
       "      <td>-0.002622</td>\n",
       "      <td>NaN</td>\n",
       "      <td>NaN</td>\n",
       "      <td>NaN</td>\n",
       "      <td>-0.008626</td>\n",
       "      <td>-0.045712</td>\n",
       "    </tr>\n",
       "    <tr>\n",
       "      <th>com_t_11</th>\n",
       "      <td>0.075446</td>\n",
       "      <td>0.083086</td>\n",
       "      <td>0.083931</td>\n",
       "      <td>0.082419</td>\n",
       "      <td>0.046472</td>\n",
       "      <td>0.033630</td>\n",
       "      <td>-0.019320</td>\n",
       "      <td>0.121328</td>\n",
       "      <td>0.125148</td>\n",
       "      <td>0.096362</td>\n",
       "      <td>...</td>\n",
       "      <td>NaN</td>\n",
       "      <td>NaN</td>\n",
       "      <td>0.077067</td>\n",
       "      <td>0.141153</td>\n",
       "      <td>0.087273</td>\n",
       "      <td>NaN</td>\n",
       "      <td>NaN</td>\n",
       "      <td>NaN</td>\n",
       "      <td>-0.102983</td>\n",
       "      <td>0.018937</td>\n",
       "    </tr>\n",
       "    <tr>\n",
       "      <th>eng_t_11</th>\n",
       "      <td>0.026342</td>\n",
       "      <td>0.040145</td>\n",
       "      <td>0.041592</td>\n",
       "      <td>0.036906</td>\n",
       "      <td>0.042659</td>\n",
       "      <td>0.028922</td>\n",
       "      <td>-0.019824</td>\n",
       "      <td>0.091251</td>\n",
       "      <td>0.076819</td>\n",
       "      <td>0.073097</td>\n",
       "      <td>...</td>\n",
       "      <td>NaN</td>\n",
       "      <td>NaN</td>\n",
       "      <td>0.040151</td>\n",
       "      <td>0.104670</td>\n",
       "      <td>0.075237</td>\n",
       "      <td>NaN</td>\n",
       "      <td>NaN</td>\n",
       "      <td>NaN</td>\n",
       "      <td>-0.084631</td>\n",
       "      <td>-0.015295</td>\n",
       "    </tr>\n",
       "    <tr>\n",
       "      <th>aca_t_11</th>\n",
       "      <td>0.114903</td>\n",
       "      <td>0.142014</td>\n",
       "      <td>0.131431</td>\n",
       "      <td>0.132348</td>\n",
       "      <td>0.068629</td>\n",
       "      <td>0.059321</td>\n",
       "      <td>0.021325</td>\n",
       "      <td>0.070467</td>\n",
       "      <td>0.090006</td>\n",
       "      <td>0.061375</td>\n",
       "      <td>...</td>\n",
       "      <td>NaN</td>\n",
       "      <td>NaN</td>\n",
       "      <td>0.048313</td>\n",
       "      <td>0.095373</td>\n",
       "      <td>0.014355</td>\n",
       "      <td>NaN</td>\n",
       "      <td>NaN</td>\n",
       "      <td>NaN</td>\n",
       "      <td>-0.082495</td>\n",
       "      <td>-0.013223</td>\n",
       "    </tr>\n",
       "    <tr>\n",
       "      <th>saf_s_11</th>\n",
       "      <td>0.293134</td>\n",
       "      <td>0.367148</td>\n",
       "      <td>0.329990</td>\n",
       "      <td>0.337639</td>\n",
       "      <td>0.138522</td>\n",
       "      <td>0.132409</td>\n",
       "      <td>0.128025</td>\n",
       "      <td>-0.048706</td>\n",
       "      <td>-0.096378</td>\n",
       "      <td>-0.037312</td>\n",
       "      <td>...</td>\n",
       "      <td>NaN</td>\n",
       "      <td>NaN</td>\n",
       "      <td>-0.177151</td>\n",
       "      <td>0.014120</td>\n",
       "      <td>-0.183818</td>\n",
       "      <td>NaN</td>\n",
       "      <td>NaN</td>\n",
       "      <td>NaN</td>\n",
       "      <td>0.109351</td>\n",
       "      <td>-0.108957</td>\n",
       "    </tr>\n",
       "    <tr>\n",
       "      <th>com_s_11</th>\n",
       "      <td>0.163375</td>\n",
       "      <td>0.197983</td>\n",
       "      <td>0.188753</td>\n",
       "      <td>0.187370</td>\n",
       "      <td>0.002849</td>\n",
       "      <td>0.007380</td>\n",
       "      <td>0.054039</td>\n",
       "      <td>-0.149991</td>\n",
       "      <td>-0.070801</td>\n",
       "      <td>-0.196166</td>\n",
       "      <td>...</td>\n",
       "      <td>NaN</td>\n",
       "      <td>NaN</td>\n",
       "      <td>-0.093337</td>\n",
       "      <td>-0.136185</td>\n",
       "      <td>-0.249974</td>\n",
       "      <td>NaN</td>\n",
       "      <td>NaN</td>\n",
       "      <td>NaN</td>\n",
       "      <td>0.022880</td>\n",
       "      <td>-0.094638</td>\n",
       "    </tr>\n",
       "    <tr>\n",
       "      <th>eng_s_11</th>\n",
       "      <td>0.179609</td>\n",
       "      <td>0.238520</td>\n",
       "      <td>0.208252</td>\n",
       "      <td>0.213822</td>\n",
       "      <td>0.095506</td>\n",
       "      <td>0.090553</td>\n",
       "      <td>0.087735</td>\n",
       "      <td>-0.021436</td>\n",
       "      <td>0.018581</td>\n",
       "      <td>-0.048808</td>\n",
       "      <td>...</td>\n",
       "      <td>NaN</td>\n",
       "      <td>NaN</td>\n",
       "      <td>-0.049168</td>\n",
       "      <td>0.018391</td>\n",
       "      <td>-0.141592</td>\n",
       "      <td>NaN</td>\n",
       "      <td>NaN</td>\n",
       "      <td>NaN</td>\n",
       "      <td>0.015297</td>\n",
       "      <td>-0.079073</td>\n",
       "    </tr>\n",
       "    <tr>\n",
       "      <th>aca_s_11</th>\n",
       "      <td>0.312628</td>\n",
       "      <td>0.343080</td>\n",
       "      <td>0.342818</td>\n",
       "      <td>0.339435</td>\n",
       "      <td>0.104078</td>\n",
       "      <td>0.103549</td>\n",
       "      <td>0.115254</td>\n",
       "      <td>-0.078610</td>\n",
       "      <td>-0.024895</td>\n",
       "      <td>-0.083496</td>\n",
       "      <td>...</td>\n",
       "      <td>NaN</td>\n",
       "      <td>NaN</td>\n",
       "      <td>-0.058206</td>\n",
       "      <td>-0.020378</td>\n",
       "      <td>-0.211760</td>\n",
       "      <td>NaN</td>\n",
       "      <td>NaN</td>\n",
       "      <td>NaN</td>\n",
       "      <td>0.076781</td>\n",
       "      <td>-0.033967</td>\n",
       "    </tr>\n",
       "    <tr>\n",
       "      <th>saf_tot_11</th>\n",
       "      <td>0.280731</td>\n",
       "      <td>0.337194</td>\n",
       "      <td>0.317966</td>\n",
       "      <td>0.318753</td>\n",
       "      <td>0.087626</td>\n",
       "      <td>0.085234</td>\n",
       "      <td>0.076028</td>\n",
       "      <td>-0.107517</td>\n",
       "      <td>-0.091296</td>\n",
       "      <td>-0.086707</td>\n",
       "      <td>...</td>\n",
       "      <td>NaN</td>\n",
       "      <td>NaN</td>\n",
       "      <td>-0.152864</td>\n",
       "      <td>-0.031034</td>\n",
       "      <td>-0.184688</td>\n",
       "      <td>NaN</td>\n",
       "      <td>NaN</td>\n",
       "      <td>NaN</td>\n",
       "      <td>0.110289</td>\n",
       "      <td>-0.088974</td>\n",
       "    </tr>\n",
       "    <tr>\n",
       "      <th>com_tot_11</th>\n",
       "      <td>0.061919</td>\n",
       "      <td>0.079245</td>\n",
       "      <td>0.085890</td>\n",
       "      <td>0.077310</td>\n",
       "      <td>-0.018370</td>\n",
       "      <td>-0.020397</td>\n",
       "      <td>-0.016378</td>\n",
       "      <td>-0.081318</td>\n",
       "      <td>0.028828</td>\n",
       "      <td>-0.119978</td>\n",
       "      <td>...</td>\n",
       "      <td>NaN</td>\n",
       "      <td>NaN</td>\n",
       "      <td>-0.000657</td>\n",
       "      <td>-0.058343</td>\n",
       "      <td>-0.128623</td>\n",
       "      <td>NaN</td>\n",
       "      <td>NaN</td>\n",
       "      <td>NaN</td>\n",
       "      <td>0.002096</td>\n",
       "      <td>-0.010792</td>\n",
       "    </tr>\n",
       "    <tr>\n",
       "      <th>eng_tot_11</th>\n",
       "      <td>0.080790</td>\n",
       "      <td>0.105424</td>\n",
       "      <td>0.107528</td>\n",
       "      <td>0.100102</td>\n",
       "      <td>0.047837</td>\n",
       "      <td>0.039393</td>\n",
       "      <td>0.018657</td>\n",
       "      <td>-0.015534</td>\n",
       "      <td>0.043222</td>\n",
       "      <td>-0.037942</td>\n",
       "      <td>...</td>\n",
       "      <td>NaN</td>\n",
       "      <td>NaN</td>\n",
       "      <td>0.001077</td>\n",
       "      <td>0.018003</td>\n",
       "      <td>-0.066968</td>\n",
       "      <td>NaN</td>\n",
       "      <td>NaN</td>\n",
       "      <td>NaN</td>\n",
       "      <td>-0.006988</td>\n",
       "      <td>-0.040262</td>\n",
       "    </tr>\n",
       "    <tr>\n",
       "      <th>aca_tot_11</th>\n",
       "      <td>0.171198</td>\n",
       "      <td>0.191625</td>\n",
       "      <td>0.198944</td>\n",
       "      <td>0.190966</td>\n",
       "      <td>0.045393</td>\n",
       "      <td>0.043265</td>\n",
       "      <td>0.040720</td>\n",
       "      <td>-0.078342</td>\n",
       "      <td>0.020275</td>\n",
       "      <td>-0.086127</td>\n",
       "      <td>...</td>\n",
       "      <td>NaN</td>\n",
       "      <td>NaN</td>\n",
       "      <td>-0.010946</td>\n",
       "      <td>-0.032606</td>\n",
       "      <td>-0.153658</td>\n",
       "      <td>NaN</td>\n",
       "      <td>NaN</td>\n",
       "      <td>NaN</td>\n",
       "      <td>0.026099</td>\n",
       "      <td>-0.022453</td>\n",
       "    </tr>\n",
       "  </tbody>\n",
       "</table>\n",
       "<p>22 rows × 67 columns</p>\n",
       "</div>"
      ],
      "text/plain": [
       "            SAT Critical Reading Avg. Score  SAT Math Avg. Score  \\\n",
       "rr_s                               0.230535             0.206058   \n",
       "rr_t                              -0.031378            -0.010484   \n",
       "rr_p                               0.034665             0.051688   \n",
       "N_s                                0.384723             0.471527   \n",
       "N_t                                0.254049             0.350594   \n",
       "N_p                                0.383032             0.464210   \n",
       "saf_p_11                           0.106216             0.118931   \n",
       "com_p_11                          -0.123188            -0.121054   \n",
       "eng_p_11                           0.016373             0.005330   \n",
       "aca_p_11                           0.024355             0.024334   \n",
       "saf_t_11                           0.282885             0.329018   \n",
       "com_t_11                           0.075446             0.083086   \n",
       "eng_t_11                           0.026342             0.040145   \n",
       "aca_t_11                           0.114903             0.142014   \n",
       "saf_s_11                           0.293134             0.367148   \n",
       "com_s_11                           0.163375             0.197983   \n",
       "eng_s_11                           0.179609             0.238520   \n",
       "aca_s_11                           0.312628             0.343080   \n",
       "saf_tot_11                         0.280731             0.337194   \n",
       "com_tot_11                         0.061919             0.079245   \n",
       "eng_tot_11                         0.080790             0.105424   \n",
       "aca_tot_11                         0.171198             0.191625   \n",
       "\n",
       "            SAT Writing Avg. Score  sat_score  AP Test Takers   \\\n",
       "rr_s                      0.249670   0.232199         0.059902   \n",
       "rr_t                     -0.028465  -0.023386        -0.008269   \n",
       "rr_p                      0.054048   0.047925        -0.013702   \n",
       "N_s                       0.385180   0.423463         0.692322   \n",
       "N_t                       0.247033   0.291463         0.560139   \n",
       "N_p                       0.389013   0.421530         0.680333   \n",
       "saf_p_11                  0.136731   0.122913        -0.079412   \n",
       "com_p_11                 -0.094316  -0.115073        -0.162610   \n",
       "eng_p_11                  0.039251   0.020254        -0.043140   \n",
       "aca_p_11                  0.055559   0.035155        -0.091459   \n",
       "saf_t_11                  0.309941   0.313810         0.140953   \n",
       "com_t_11                  0.083931   0.082419         0.046472   \n",
       "eng_t_11                  0.041592   0.036906         0.042659   \n",
       "aca_t_11                  0.131431   0.132348         0.068629   \n",
       "saf_s_11                  0.329990   0.337639         0.138522   \n",
       "com_s_11                  0.188753   0.187370         0.002849   \n",
       "eng_s_11                  0.208252   0.213822         0.095506   \n",
       "aca_s_11                  0.342818   0.339435         0.104078   \n",
       "saf_tot_11                0.317966   0.318753         0.087626   \n",
       "com_tot_11                0.085890   0.077310        -0.018370   \n",
       "eng_tot_11                0.107528   0.100102         0.047837   \n",
       "aca_tot_11                0.198944   0.190966         0.045393   \n",
       "\n",
       "            Total Exams Taken  Number of Exams with scores 3 4 or 5  \\\n",
       "rr_s                 0.069768                              0.067692   \n",
       "rr_t                -0.016841                             -0.018458   \n",
       "rr_p                 0.000027                              0.035329   \n",
       "N_s                  0.661808                              0.502398   \n",
       "N_t                  0.515464                              0.338181   \n",
       "N_p                  0.657976                              0.533714   \n",
       "saf_p_11            -0.064320                             -0.010488   \n",
       "com_p_11            -0.145548                             -0.070715   \n",
       "eng_p_11            -0.034138                              0.011983   \n",
       "aca_p_11            -0.081141                             -0.026855   \n",
       "saf_t_11             0.130993                              0.078264   \n",
       "com_t_11             0.033630                             -0.019320   \n",
       "eng_t_11             0.028922                             -0.019824   \n",
       "aca_t_11             0.059321                              0.021325   \n",
       "saf_s_11             0.132409                              0.128025   \n",
       "com_s_11             0.007380                              0.054039   \n",
       "eng_s_11             0.090553                              0.087735   \n",
       "aca_s_11             0.103549                              0.115254   \n",
       "saf_tot_11           0.085234                              0.076028   \n",
       "com_tot_11          -0.020397                             -0.016378   \n",
       "eng_tot_11           0.039393                              0.018657   \n",
       "aca_tot_11           0.043265                              0.040720   \n",
       "\n",
       "            Total Cohort       CSD  NUMBER OF STUDENTS / SEATS FILLED  ...  \\\n",
       "rr_s           -0.125546 -0.025617                          -0.081001  ...   \n",
       "rr_t           -0.026385  0.019645                          -0.041974  ...   \n",
       "rr_p           -0.188603 -0.031448                          -0.191458  ...   \n",
       "N_s             0.892195  0.244212                           0.935351  ...   \n",
       "N_t             0.909168  0.269299                           0.906038  ...   \n",
       "N_p             0.728939  0.205329                           0.785678  ...   \n",
       "saf_p_11       -0.363143 -0.196415                          -0.342306  ...   \n",
       "com_p_11       -0.368474 -0.107558                          -0.384702  ...   \n",
       "eng_p_11       -0.231506 -0.049386                          -0.232505  ...   \n",
       "aca_p_11       -0.311564 -0.093648                          -0.309984  ...   \n",
       "saf_t_11        0.064428  0.019821                           0.085233  ...   \n",
       "com_t_11        0.121328  0.125148                           0.096362  ...   \n",
       "eng_t_11        0.091251  0.076819                           0.073097  ...   \n",
       "aca_t_11        0.070467  0.090006                           0.061375  ...   \n",
       "saf_s_11       -0.048706 -0.096378                          -0.037312  ...   \n",
       "com_s_11       -0.149991 -0.070801                          -0.196166  ...   \n",
       "eng_s_11       -0.021436  0.018581                          -0.048808  ...   \n",
       "aca_s_11       -0.078610 -0.024895                          -0.083496  ...   \n",
       "saf_tot_11     -0.107517 -0.091296                          -0.086707  ...   \n",
       "com_tot_11     -0.081318  0.028828                          -0.119978  ...   \n",
       "eng_tot_11     -0.015534  0.043222                          -0.037942  ...   \n",
       "aca_tot_11     -0.078342  0.020275                          -0.086127  ...   \n",
       "\n",
       "            grade_span_max  expgrade_span_max       zip  total_students  \\\n",
       "rr_s                   NaN                NaN -0.103092       -0.082720   \n",
       "rr_t                   NaN                NaN -0.024091       -0.046634   \n",
       "rr_p                   NaN                NaN -0.099928       -0.169844   \n",
       "N_s                    NaN                NaN  0.129550        0.942661   \n",
       "N_t                    NaN                NaN  0.158897        0.923733   \n",
       "N_p                    NaN                NaN  0.104068        0.817987   \n",
       "saf_p_11               NaN                NaN -0.188698       -0.290301   \n",
       "com_p_11               NaN                NaN -0.077146       -0.360806   \n",
       "eng_p_11               NaN                NaN -0.037859       -0.194448   \n",
       "aca_p_11               NaN                NaN -0.076421       -0.267526   \n",
       "saf_t_11               NaN                NaN -0.046640        0.124319   \n",
       "com_t_11               NaN                NaN  0.077067        0.141153   \n",
       "eng_t_11               NaN                NaN  0.040151        0.104670   \n",
       "aca_t_11               NaN                NaN  0.048313        0.095373   \n",
       "saf_s_11               NaN                NaN -0.177151        0.014120   \n",
       "com_s_11               NaN                NaN -0.093337       -0.136185   \n",
       "eng_s_11               NaN                NaN -0.049168        0.018391   \n",
       "aca_s_11               NaN                NaN -0.058206       -0.020378   \n",
       "saf_tot_11             NaN                NaN -0.152864       -0.031034   \n",
       "com_tot_11             NaN                NaN -0.000657       -0.058343   \n",
       "eng_tot_11             NaN                NaN  0.001077        0.018003   \n",
       "aca_tot_11             NaN                NaN -0.010946       -0.032606   \n",
       "\n",
       "            number_programs  priority08  priority09  priority10       lat  \\\n",
       "rr_s              -0.171406         NaN         NaN         NaN  0.050591   \n",
       "rr_t              -0.050622         NaN         NaN         NaN -0.092756   \n",
       "rr_p              -0.227069         NaN         NaN         NaN  0.122586   \n",
       "N_s                0.586136         NaN         NaN         NaN -0.171325   \n",
       "N_t                0.667619         NaN         NaN         NaN -0.184858   \n",
       "N_p                0.432957         NaN         NaN         NaN -0.149107   \n",
       "saf_p_11          -0.358813         NaN         NaN         NaN  0.240957   \n",
       "com_p_11          -0.348528         NaN         NaN         NaN  0.207534   \n",
       "eng_p_11          -0.236977         NaN         NaN         NaN  0.147215   \n",
       "aca_p_11          -0.315592         NaN         NaN         NaN  0.162478   \n",
       "saf_t_11          -0.002622         NaN         NaN         NaN -0.008626   \n",
       "com_t_11           0.087273         NaN         NaN         NaN -0.102983   \n",
       "eng_t_11           0.075237         NaN         NaN         NaN -0.084631   \n",
       "aca_t_11           0.014355         NaN         NaN         NaN -0.082495   \n",
       "saf_s_11          -0.183818         NaN         NaN         NaN  0.109351   \n",
       "com_s_11          -0.249974         NaN         NaN         NaN  0.022880   \n",
       "eng_s_11          -0.141592         NaN         NaN         NaN  0.015297   \n",
       "aca_s_11          -0.211760         NaN         NaN         NaN  0.076781   \n",
       "saf_tot_11        -0.184688         NaN         NaN         NaN  0.110289   \n",
       "com_tot_11        -0.128623         NaN         NaN         NaN  0.002096   \n",
       "eng_tot_11        -0.066968         NaN         NaN         NaN -0.006988   \n",
       "aca_tot_11        -0.153658         NaN         NaN         NaN  0.026099   \n",
       "\n",
       "                 lon  \n",
       "rr_s       -0.098253  \n",
       "rr_t       -0.055198  \n",
       "rr_p        0.017444  \n",
       "N_s        -0.066135  \n",
       "N_t        -0.046901  \n",
       "N_p        -0.065858  \n",
       "saf_p_11   -0.059055  \n",
       "com_p_11    0.018565  \n",
       "eng_p_11   -0.012808  \n",
       "aca_p_11   -0.012851  \n",
       "saf_t_11   -0.045712  \n",
       "com_t_11    0.018937  \n",
       "eng_t_11   -0.015295  \n",
       "aca_t_11   -0.013223  \n",
       "saf_s_11   -0.108957  \n",
       "com_s_11   -0.094638  \n",
       "eng_s_11   -0.079073  \n",
       "aca_s_11   -0.033967  \n",
       "saf_tot_11 -0.088974  \n",
       "com_tot_11 -0.010792  \n",
       "eng_tot_11 -0.040262  \n",
       "aca_tot_11 -0.022453  \n",
       "\n",
       "[22 rows x 67 columns]"
      ]
     },
     "execution_count": 97,
     "metadata": {},
     "output_type": "execute_result"
    }
   ],
   "source": [
    "sat_survey_corr = combined.corr()\n",
    "sat_survey_corr = sat_survey_corr.loc[survey_fields, :]\n",
    "sat_survey_corr"
   ]
  },
  {
   "cell_type": "code",
   "execution_count": 98,
   "metadata": {},
   "outputs": [],
   "source": [
    "import matplotlib.pyplot as plt \n",
    "%matplotlib inline"
   ]
  },
  {
   "cell_type": "code",
   "execution_count": 99,
   "metadata": {},
   "outputs": [
    {
     "data": {
      "image/png": "[encoded data removed]",
      "text/plain": [
       "<Figure size 600x400 with 1 Axes>"
      ]
     },
     "metadata": {},
     "output_type": "display_data"
    }
   ],
   "source": [
    "sat_survey_corr = combined.corr()\n",
    "sat_survey_corr=sat_survey_corr.loc[survey_fields,'sat_score']\n",
    "sat_survey_corr.plot.bar(title='Correlations between parents, teachers and students survey data and sat score')\n",
    "plt.show()"
   ]
  },
  {
   "cell_type": "markdown",
   "metadata": {},
   "source": [
    "We note that the safety score from teachers(saf_t_11) and students (saf_s_11) correlate highly with sat scores, and so did academic excpetations from students (aca_s_11) . It is surprising to see that the communication score from parents (com_p_11) has a negative correlation coefficient, however it is very weak."
   ]
  },
  {
   "cell_type": "markdown",
   "metadata": {},
   "source": [
    "# Exploring Safety and SAT Scores\n",
    "## Investigate safety scores"
   ]
  },
  {
   "cell_type": "code",
   "execution_count": 100,
   "metadata": {},
   "outputs": [
    {
     "data": {
      "image/png": "[encoded data removed]",
      "text/plain": [
       "<Figure size 600x400 with 1 Axes>"
      ]
     },
     "metadata": {},
     "output_type": "display_data"
    }
   ],
   "source": [
    "combined.plot.scatter(x= 'saf_s_11', y = 'sat_score', title = 'Student Safety scores vs Sat Scores')\n",
    "plt.show()"
   ]
  },
  {
   "cell_type": "markdown",
   "metadata": {},
   "source": [
    "At student safety scores below 7.0, the sat_scores remains somewhat constant. Most scores are within the range 1000 - 1400. After a safety score of 7.0, we do not see any clear correlation with sat scores."
   ]
  },
  {
   "cell_type": "markdown",
   "metadata": {},
   "source": [
    "## Compute the average safety score for each borough"
   ]
  },
  {
   "cell_type": "code",
   "execution_count": 101,
   "metadata": {},
   "outputs": [
    {
     "data": {
      "text/html": [
       "<div>\n",
       "<style scoped>\n",
       "    .dataframe tbody tr th:only-of-type {\n",
       "        vertical-align: middle;\n",
       "    }\n",
       "\n",
       "    .dataframe tbody tr th {\n",
       "        vertical-align: top;\n",
       "    }\n",
       "\n",
       "    .dataframe thead th {\n",
       "        text-align: right;\n",
       "    }\n",
       "</style>\n",
       "<table border=\"1\" class=\"dataframe\">\n",
       "  <thead>\n",
       "    <tr style=\"text-align: right;\">\n",
       "      <th></th>\n",
       "      <th>sat_score</th>\n",
       "      <th>saf_t_11</th>\n",
       "      <th>saf_p_11</th>\n",
       "    </tr>\n",
       "    <tr>\n",
       "      <th>boro</th>\n",
       "      <th></th>\n",
       "      <th></th>\n",
       "      <th></th>\n",
       "    </tr>\n",
       "  </thead>\n",
       "  <tbody>\n",
       "    <tr>\n",
       "      <th>Bronx</th>\n",
       "      <td>1157.598203</td>\n",
       "      <td>7.026882</td>\n",
       "      <td>8.346237</td>\n",
       "    </tr>\n",
       "    <tr>\n",
       "      <th>Brooklyn</th>\n",
       "      <td>1181.364461</td>\n",
       "      <td>6.985849</td>\n",
       "      <td>8.036792</td>\n",
       "    </tr>\n",
       "    <tr>\n",
       "      <th>Manhattan</th>\n",
       "      <td>1278.331410</td>\n",
       "      <td>7.287778</td>\n",
       "      <td>8.288889</td>\n",
       "    </tr>\n",
       "    <tr>\n",
       "      <th>Queens</th>\n",
       "      <td>1286.753032</td>\n",
       "      <td>7.365625</td>\n",
       "      <td>8.098437</td>\n",
       "    </tr>\n",
       "    <tr>\n",
       "      <th>Staten Island</th>\n",
       "      <td>1382.500000</td>\n",
       "      <td>7.210000</td>\n",
       "      <td>7.800000</td>\n",
       "    </tr>\n",
       "  </tbody>\n",
       "</table>\n",
       "</div>"
      ],
      "text/plain": [
       "                 sat_score  saf_t_11  saf_p_11\n",
       "boro                                          \n",
       "Bronx          1157.598203  7.026882  8.346237\n",
       "Brooklyn       1181.364461  6.985849  8.036792\n",
       "Manhattan      1278.331410  7.287778  8.288889\n",
       "Queens         1286.753032  7.365625  8.098437\n",
       "Staten Island  1382.500000  7.210000  7.800000"
      ]
     },
     "execution_count": 101,
     "metadata": {},
     "output_type": "execute_result"
    }
   ],
   "source": [
    "import numpy as np\n",
    "sat_borough = combined.groupby('boro').agg(numpy.mean)\n",
    "sat_borough = sat_borough[['sat_score','saf_t_11', 'saf_p_11']]\n",
    "sat_borough"
   ]
  },
  {
   "cell_type": "code",
   "execution_count": 102,
   "metadata": {},
   "outputs": [
    {
     "data": {
      "image/png": "[encoded data removed]",
      "text/plain": [
       "<Figure size 2000x500 with 3 Axes>"
      ]
     },
     "metadata": {},
     "output_type": "display_data"
    }
   ],
   "source": [
    "fig,(ax1,ax2,ax3) = plt.subplots(1,3, figsize = (20,5))\n",
    "\n",
    "#ax.legend().set_visible(False)\n",
    "ax1.bar(combined['boro'],combined['sat_score'])\n",
    "ax1.set_xlabel('sat_score')\n",
    "\n",
    "ax2.bar(combined['boro'],combined['saf_t_11'])\n",
    "ax2.set_xlabel('saf_t_11')\n",
    "\n",
    "ax3.bar(combined['boro'],combined['saf_p_11'])\n",
    "ax3.set_xlabel('saf_p_11')\n",
    "\n",
    "plt.show()"
   ]
  },
  {
   "cell_type": "markdown",
   "metadata": {},
   "source": [
    "It looks like Manhattan and Queens tend to have lower safety scores, whereas Brooklyn has higher safety scores. It is interesting to note that the average SAT score for Brooklyn is lower than low safety areas. We cannot however conclude SAT score comparision between Boros based on safety scores. Hence we will focus on other factors"
   ]
  },
  {
   "cell_type": "markdown",
   "metadata": {},
   "source": [
    "# Exploring Race and SAT Scores\n",
    "## Investigate racial differences in SAT scores."
   ]
  },
  {
   "cell_type": "code",
   "execution_count": 103,
   "metadata": {},
   "outputs": [
    {
     "data": {
      "text/html": [
       "<div>\n",
       "<style scoped>\n",
       "    .dataframe tbody tr th:only-of-type {\n",
       "        vertical-align: middle;\n",
       "    }\n",
       "\n",
       "    .dataframe tbody tr th {\n",
       "        vertical-align: top;\n",
       "    }\n",
       "\n",
       "    .dataframe thead th {\n",
       "        text-align: right;\n",
       "    }\n",
       "</style>\n",
       "<table border=\"1\" class=\"dataframe\">\n",
       "  <thead>\n",
       "    <tr style=\"text-align: right;\">\n",
       "      <th></th>\n",
       "      <th>white_per</th>\n",
       "      <th>asian_per</th>\n",
       "      <th>black_per</th>\n",
       "      <th>hispanic_per</th>\n",
       "      <th>sat_score</th>\n",
       "    </tr>\n",
       "  </thead>\n",
       "  <tbody>\n",
       "    <tr>\n",
       "      <th>white_per</th>\n",
       "      <td>1.000000</td>\n",
       "      <td>0.349557</td>\n",
       "      <td>-0.410717</td>\n",
       "      <td>-0.344970</td>\n",
       "      <td>0.620718</td>\n",
       "    </tr>\n",
       "    <tr>\n",
       "      <th>asian_per</th>\n",
       "      <td>0.349557</td>\n",
       "      <td>1.000000</td>\n",
       "      <td>-0.417373</td>\n",
       "      <td>-0.353186</td>\n",
       "      <td>0.570730</td>\n",
       "    </tr>\n",
       "    <tr>\n",
       "      <th>black_per</th>\n",
       "      <td>-0.410717</td>\n",
       "      <td>-0.417373</td>\n",
       "      <td>1.000000</td>\n",
       "      <td>-0.566739</td>\n",
       "      <td>-0.284139</td>\n",
       "    </tr>\n",
       "    <tr>\n",
       "      <th>hispanic_per</th>\n",
       "      <td>-0.344970</td>\n",
       "      <td>-0.353186</td>\n",
       "      <td>-0.566739</td>\n",
       "      <td>1.000000</td>\n",
       "      <td>-0.396985</td>\n",
       "    </tr>\n",
       "  </tbody>\n",
       "</table>\n",
       "</div>"
      ],
      "text/plain": [
       "              white_per  asian_per  black_per  hispanic_per  sat_score\n",
       "white_per      1.000000   0.349557  -0.410717     -0.344970   0.620718\n",
       "asian_per      0.349557   1.000000  -0.417373     -0.353186   0.570730\n",
       "black_per     -0.410717  -0.417373   1.000000     -0.566739  -0.284139\n",
       "hispanic_per  -0.344970  -0.353186  -0.566739      1.000000  -0.396985"
      ]
     },
     "execution_count": 103,
     "metadata": {},
     "output_type": "execute_result"
    }
   ],
   "source": [
    "sat_survey_corr = combined.corr()\n",
    "race_corr = sat_survey_corr[['white_per', 'asian_per', 'black_per', 'hispanic_per', 'sat_score']]\n",
    "race_corr = race_corr.loc[['white_per', 'asian_per', 'black_per', 'hispanic_per']]\n",
    "# race_corr = race_corr.loc[['white_per', 'asian_per', 'black_per', 'hispanic_per'],'sat_score']\n",
    "race_corr\n"
   ]
  },
  {
   "cell_type": "code",
   "execution_count": 104,
   "metadata": {},
   "outputs": [
    {
     "data": {
      "text/plain": [
       "white_per       0.620718\n",
       "asian_per       0.570730\n",
       "black_per      -0.284139\n",
       "hispanic_per   -0.396985\n",
       "Name: sat_score, dtype: float64"
      ]
     },
     "execution_count": 104,
     "metadata": {},
     "output_type": "execute_result"
    }
   ],
   "source": [
    "race_corr_sat = race_corr['sat_score']\n",
    "race_corr_sat\n"
   ]
  },
  {
   "cell_type": "code",
   "execution_count": 105,
   "metadata": {},
   "outputs": [
    {
     "data": {
      "image/png": "[encoded data removed]",
      "text/plain": [
       "<Figure size 600x400 with 1 Axes>"
      ]
     },
     "metadata": {},
     "output_type": "display_data"
    }
   ],
   "source": [
    "race_corr_sat.plot.bar(title = 'Student Race vs SAT Scores')\n",
    "plt.show()"
   ]
  },
  {
   "cell_type": "markdown",
   "metadata": {},
   "source": [
    "The bar plot shows us that white and asian students are more likely to perform better on the sat than black and hispanics. This was expected as black and hispanic communities are more prone to come from an emporvrished background not enabling to hire tutors or sometimes need to work outside of school to support their family."
   ]
  },
  {
   "cell_type": "markdown",
   "metadata": {},
   "source": [
    "## Explore schools with low SAT scores and high values for hispanic_per"
   ]
  },
  {
   "cell_type": "code",
   "execution_count": 106,
   "metadata": {},
   "outputs": [
    {
     "data": {
      "image/png": "[encoded data removed]",
      "text/plain": [
       "<Figure size 600x400 with 1 Axes>"
      ]
     },
     "metadata": {},
     "output_type": "display_data"
    }
   ],
   "source": [
    "combined.plot.scatter('hispanic_per','sat_score',title = 'SAT Scores vs hispanic_per')\n",
    "plt.show()"
   ]
  },
  {
   "cell_type": "markdown",
   "metadata": {},
   "source": [
    "We notice from the plot above that low sat scores correlate with high percentage of hispanic students. This supports the correlation coefficient of -0.4 calculated when exploring each student race and average sat_scores"
   ]
  },
  {
   "cell_type": "markdown",
   "metadata": {},
   "source": [
    "## Research any schools with a hispanic_per greater than 95%"
   ]
  },
  {
   "cell_type": "code",
   "execution_count": 107,
   "metadata": {},
   "outputs": [],
   "source": [
    "school_name= combined[combined['hispanic_per']>95]['SCHOOL NAME']"
   ]
  },
  {
   "cell_type": "code",
   "execution_count": 108,
   "metadata": {},
   "outputs": [
    {
     "data": {
      "text/plain": [
       "44                         MANHATTAN BRIDGES HIGH SCHOOL\n",
       "82      WASHINGTON HEIGHTS EXPEDITIONARY LEARNING SCHOOL\n",
       "89     GREGORIO LUPERON HIGH SCHOOL FOR SCIENCE AND M...\n",
       "125                  ACADEMY FOR LANGUAGE AND TECHNOLOGY\n",
       "141                INTERNATIONAL SCHOOL FOR LIBERAL ARTS\n",
       "176     PAN AMERICAN INTERNATIONAL HIGH SCHOOL AT MONROE\n",
       "253                            MULTICULTURAL HIGH SCHOOL\n",
       "286               PAN AMERICAN INTERNATIONAL HIGH SCHOOL\n",
       "Name: SCHOOL NAME, dtype: object"
      ]
     },
     "execution_count": 108,
     "metadata": {},
     "output_type": "execute_result"
    }
   ],
   "source": [
    "school_name"
   ]
  },
  {
   "cell_type": "markdown",
   "metadata": {},
   "source": [
    "## Research any schools with a hispanic_per less than 10% and an average SAT score greater than 1800"
   ]
  },
  {
   "cell_type": "code",
   "execution_count": 109,
   "metadata": {},
   "outputs": [
    {
     "data": {
      "text/html": [
       "<div>\n",
       "<style scoped>\n",
       "    .dataframe tbody tr th:only-of-type {\n",
       "        vertical-align: middle;\n",
       "    }\n",
       "\n",
       "    .dataframe tbody tr th {\n",
       "        vertical-align: top;\n",
       "    }\n",
       "\n",
       "    .dataframe thead th {\n",
       "        text-align: right;\n",
       "    }\n",
       "</style>\n",
       "<table border=\"1\" class=\"dataframe\">\n",
       "  <thead>\n",
       "    <tr style=\"text-align: right;\">\n",
       "      <th></th>\n",
       "      <th>SCHOOL NAME</th>\n",
       "      <th>hispanic_per</th>\n",
       "      <th>sat_score</th>\n",
       "    </tr>\n",
       "  </thead>\n",
       "  <tbody>\n",
       "    <tr>\n",
       "      <th>37</th>\n",
       "      <td>STUYVESANT HIGH SCHOOL</td>\n",
       "      <td>2.4</td>\n",
       "      <td>2096.0</td>\n",
       "    </tr>\n",
       "    <tr>\n",
       "      <th>151</th>\n",
       "      <td>BRONX HIGH SCHOOL OF SCIENCE</td>\n",
       "      <td>7.2</td>\n",
       "      <td>1969.0</td>\n",
       "    </tr>\n",
       "    <tr>\n",
       "      <th>187</th>\n",
       "      <td>BROOKLYN TECHNICAL HIGH SCHOOL</td>\n",
       "      <td>7.9</td>\n",
       "      <td>1833.0</td>\n",
       "    </tr>\n",
       "    <tr>\n",
       "      <th>327</th>\n",
       "      <td>QUEENS HIGH SCHOOL FOR THE SCIENCES AT YORK CO...</td>\n",
       "      <td>7.9</td>\n",
       "      <td>1868.0</td>\n",
       "    </tr>\n",
       "    <tr>\n",
       "      <th>356</th>\n",
       "      <td>STATEN ISLAND TECHNICAL HIGH SCHOOL</td>\n",
       "      <td>5.3</td>\n",
       "      <td>1953.0</td>\n",
       "    </tr>\n",
       "  </tbody>\n",
       "</table>\n",
       "</div>"
      ],
      "text/plain": [
       "                                           SCHOOL NAME  hispanic_per  \\\n",
       "37                              STUYVESANT HIGH SCHOOL           2.4   \n",
       "151                       BRONX HIGH SCHOOL OF SCIENCE           7.2   \n",
       "187                     BROOKLYN TECHNICAL HIGH SCHOOL           7.9   \n",
       "327  QUEENS HIGH SCHOOL FOR THE SCIENCES AT YORK CO...           7.9   \n",
       "356                STATEN ISLAND TECHNICAL HIGH SCHOOL           5.3   \n",
       "\n",
       "     sat_score  \n",
       "37      2096.0  \n",
       "151     1969.0  \n",
       "187     1833.0  \n",
       "327     1868.0  \n",
       "356     1953.0  "
      ]
     },
     "execution_count": 109,
     "metadata": {},
     "output_type": "execute_result"
    }
   ],
   "source": [
    "# combined.groupby('sat_score')\n",
    "school_sat_per = combined[(combined['hispanic_per']<10) & (combined['sat_score']>1800)]\n",
    "school_name = school_sat_per[['SCHOOL NAME','hispanic_per','sat_score']]\n",
    "school_name                      "
   ]
  },
  {
   "cell_type": "markdown",
   "metadata": {},
   "source": [
    "The schools with low hispanic proportions and high SAT schools are Elite High Schools and also focused on Technical Education. Though this may not explain the relation between Hispanic proportion and score but their high scores could be explained by the fact that they have an entrance based admission and have students who already did well in a standardized test."
   ]
  },
  {
   "cell_type": "markdown",
   "metadata": {},
   "source": [
    "# Exploring Gender and SAT Scores\n",
    "## Investigate gender differences in SAT scores"
   ]
  },
  {
   "cell_type": "code",
   "execution_count": 110,
   "metadata": {},
   "outputs": [
    {
     "data": {
      "image/png": "[encoded data removed]",
      "text/plain": [
       "<Figure size 600x400 with 1 Axes>"
      ]
     },
     "metadata": {},
     "output_type": "display_data"
    }
   ],
   "source": [
    "fe_ma = combined[['male_per','female_per','sat_score']].corr()\n",
    "fe_ma_sat = fe_ma.loc[['male_per','female_per'],['sat_score']]\n",
    "# fe_ma_sat\n",
    "fe_ma_sat.plot.bar(title = 'SAT Score and Gender correlations')\n",
    "plt.show()"
   ]
  },
  {
   "cell_type": "markdown",
   "metadata": {},
   "source": [
    "The bar pot above shows us that the percentage of female students has a positive correlation with higher sat scores, whereas the percentage of male students in negatively correlated, meaning that more male students has lower sat scores"
   ]
  },
  {
   "cell_type": "markdown",
   "metadata": {},
   "source": [
    "## Investigate schools with high SAT scores and a high female_per"
   ]
  },
  {
   "cell_type": "code",
   "execution_count": 111,
   "metadata": {},
   "outputs": [
    {
     "data": {
      "image/png": "[encoded data removed]",
      "text/plain": [
       "<Figure size 600x400 with 1 Axes>"
      ]
     },
     "metadata": {},
     "output_type": "display_data"
    }
   ],
   "source": [
    "combined.plot.scatter('female_per','sat_score', title = 'female_per vs sat_score')\n",
    "plt.show()"
   ]
  },
  {
   "cell_type": "markdown",
   "metadata": {},
   "source": [
    "Based on the scatter plot, there doesn't seem to be any real correlation between sat_score and female_per. (A value of .11 was lower than the conventional threshold of 0.3 to begin with)\n",
    "However, there is a cluster of schools with a high percentage of females (60 to 80) and high SAT scores."
   ]
  },
  {
   "cell_type": "markdown",
   "metadata": {},
   "source": [
    "## Research any schools with a female_per greater than 60% and an average SAT score greater than 1700.\n"
   ]
  },
  {
   "cell_type": "code",
   "execution_count": 112,
   "metadata": {},
   "outputs": [
    {
     "data": {
      "text/html": [
       "<div>\n",
       "<style scoped>\n",
       "    .dataframe tbody tr th:only-of-type {\n",
       "        vertical-align: middle;\n",
       "    }\n",
       "\n",
       "    .dataframe tbody tr th {\n",
       "        vertical-align: top;\n",
       "    }\n",
       "\n",
       "    .dataframe thead th {\n",
       "        text-align: right;\n",
       "    }\n",
       "</style>\n",
       "<table border=\"1\" class=\"dataframe\">\n",
       "  <thead>\n",
       "    <tr style=\"text-align: right;\">\n",
       "      <th></th>\n",
       "      <th>SCHOOL NAME</th>\n",
       "      <th>female_per</th>\n",
       "      <th>sat_score</th>\n",
       "    </tr>\n",
       "  </thead>\n",
       "  <tbody>\n",
       "    <tr>\n",
       "      <th>5</th>\n",
       "      <td>BARD HIGH SCHOOL EARLY COLLEGE</td>\n",
       "      <td>68.7</td>\n",
       "      <td>1856.0</td>\n",
       "    </tr>\n",
       "    <tr>\n",
       "      <th>26</th>\n",
       "      <td>ELEANOR ROOSEVELT HIGH SCHOOL</td>\n",
       "      <td>67.5</td>\n",
       "      <td>1758.0</td>\n",
       "    </tr>\n",
       "    <tr>\n",
       "      <th>60</th>\n",
       "      <td>BEACON HIGH SCHOOL</td>\n",
       "      <td>61.0</td>\n",
       "      <td>1744.0</td>\n",
       "    </tr>\n",
       "    <tr>\n",
       "      <th>61</th>\n",
       "      <td>FIORELLO H. LAGUARDIA HIGH SCHOOL OF MUSIC &amp; A...</td>\n",
       "      <td>73.6</td>\n",
       "      <td>1707.0</td>\n",
       "    </tr>\n",
       "    <tr>\n",
       "      <th>302</th>\n",
       "      <td>TOWNSEND HARRIS HIGH SCHOOL</td>\n",
       "      <td>71.1</td>\n",
       "      <td>1910.0</td>\n",
       "    </tr>\n",
       "  </tbody>\n",
       "</table>\n",
       "</div>"
      ],
      "text/plain": [
       "                                           SCHOOL NAME  female_per  sat_score\n",
       "5                       BARD HIGH SCHOOL EARLY COLLEGE        68.7     1856.0\n",
       "26                       ELEANOR ROOSEVELT HIGH SCHOOL        67.5     1758.0\n",
       "60                                  BEACON HIGH SCHOOL        61.0     1744.0\n",
       "61   FIORELLO H. LAGUARDIA HIGH SCHOOL OF MUSIC & A...        73.6     1707.0\n",
       "302                        TOWNSEND HARRIS HIGH SCHOOL        71.1     1910.0"
      ]
     },
     "execution_count": 112,
     "metadata": {},
     "output_type": "execute_result"
    }
   ],
   "source": [
    "school_name = combined[(combined['female_per']>60) & (combined['sat_score']>1700)][['SCHOOL NAME','female_per','sat_score']]\n",
    "school_name"
   ]
  },
  {
   "cell_type": "markdown",
   "metadata": {},
   "source": [
    "These schools seem to be very selective high schools with a focus on preparing students for college entrances."
   ]
  },
  {
   "cell_type": "markdown",
   "metadata": {},
   "source": [
    "# Exploring AP Scores vs. SAT Scores"
   ]
  },
  {
   "cell_type": "code",
   "execution_count": 120,
   "metadata": {},
   "outputs": [],
   "source": [
    "combined['ap_per'] = combined['AP Test Takers ']/combined['total_enrollment']"
   ]
  },
  {
   "cell_type": "code",
   "execution_count": 121,
   "metadata": {},
   "outputs": [
    {
     "data": {
      "image/png": "[encoded data removed]",
      "text/plain": [
       "<Figure size 600x400 with 1 Axes>"
      ]
     },
     "metadata": {},
     "output_type": "display_data"
    }
   ],
   "source": [
    "combined.plot.scatter('ap_per','sat_score',title='AP Test Takers per school vs SAT Scores')\n",
    "plt.show()\n",
    "                      "
   ]
  },
  {
   "cell_type": "code",
   "execution_count": 122,
   "metadata": {},
   "outputs": [
    {
     "name": "stdout",
     "output_type": "stream",
     "text": [
      "0.05717081390766967\n"
     ]
    }
   ],
   "source": [
    "### Checking the actual correlation value\n",
    "\n",
    "ap_per_sat_score_corr = combined.corr()['sat_score'].loc['ap_per']\n",
    "print(ap_per_sat_score_corr)"
   ]
  },
  {
   "cell_type": "markdown",
   "metadata": {},
   "source": [
    "The AP Test takers percentage vs SAT scores scatter plot shows that the majority of data points are in the lower ranges. There is no clear correlation, after ap_per of 0.2, a portion of schools see an increase in SAT scores with increased number of AP test takers, however, the majority of remaining data points remain somewhat constant"
   ]
  },
  {
   "cell_type": "markdown",
   "metadata": {},
   "source": [
    "# Conclusions:\n",
    "\n",
    "- The following are indicators of high SAT scores:\n",
    "    * Safety scores by Students\n",
    "    * Saftey scores by Teachers\n",
    "    * Racial Proportions - White / Asian could indicate high SAT scores, while Black/Hispanic would indicate low SAT scores\n",
    "    * Gender is not a very strong indicator\n",
    "    * The exceptions to the Racial Proportion indicators or Gender indicators are schools with high technical focus or with an admission criteria that involves a difficult standardized test.  "
   ]
  },
  {
   "cell_type": "code",
   "execution_count": null,
   "metadata": {},
   "outputs": [],
   "source": []
  }
 ],
 "metadata": {
  "kernelspec": {
   "display_name": "Python 3",
   "language": "python",
   "name": "python3"
  },
  "language_info": {
   "codemirror_mode": {
    "name": "ipython",
    "version": 3
   },
   "file_extension": ".py",
   "mimetype": "text/x-python",
   "name": "python",
   "nbconvert_exporter": "python",
   "pygments_lexer": "ipython3",
   "version": "3.8.2"
  }
 },
 "nbformat": 4,
 "nbformat_minor": 2
}
